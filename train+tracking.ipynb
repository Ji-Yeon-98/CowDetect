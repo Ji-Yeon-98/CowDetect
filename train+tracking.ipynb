{
  "nbformat": 4,
  "nbformat_minor": 0,
  "metadata": {
    "colab": {
      "provenance": [],
      "collapsed_sections": [],
      "machine_shape": "hm"
    },
    "kernelspec": {
      "name": "python3",
      "display_name": "Python 3"
    },
    "language_info": {
      "name": "python"
    },
    "accelerator": "GPU",
    "gpuClass": "premium"
  },
  "cells": [
    {
      "cell_type": "markdown",
      "source": [
        "# install"
      ],
      "metadata": {
        "id": "kbbDU5aXmXjz"
      }
    },
    {
      "cell_type": "code",
      "execution_count": null,
      "metadata": {
        "id": "PX30cGkfmSeD"
      },
      "outputs": [],
      "source": [
        "!git clone https://github.com/Jang-jiwon/CowDetect.git\n",
        "%cd CowDetect\n",
        "!git submodule update --init --recursive"
      ]
    },
    {
      "cell_type": "code",
      "source": [
        "%cd StrongSORT-YOLO\n",
        "!pip install -r requirements.txt"
      ],
      "metadata": {
        "id": "NMt7ffPbmo7U"
      },
      "execution_count": null,
      "outputs": []
    },
    {
      "cell_type": "code",
      "source": [
        "#https://drive.google.com/file/d/1erzrvvkTs1Q4omWKQauzJC90VyK7f3VG/view?usp=sharing\n",
        "!wget --load-cookies ~/cookies.txt \"https://docs.google.com/uc?export=download&confirm=$(wget --quiet --save-cookies ~/cookies.txt --keep-session-cookies --no-check-certificate 'https://docs.google.com/uc?export=download&id=1erzrvvkTs1Q4omWKQauzJC90VyK7f3VG' -O- | sed -rn 's/.*confirm=([0-9A-Za-z_]+).*/\\1\\n/p')&id=1erzrvvkTs1Q4omWKQauzJC90VyK7f3VG\" -O /content/CowDetect/StrongSORT-YOLO/sample_video.mp4 && rm -rf ~/cookies.txt"
      ],
      "metadata": {
        "id": "qg0mPP9A0fj8"
      },
      "execution_count": null,
      "outputs": []
    },
    {
      "cell_type": "code",
      "source": [
        "!wget https://github.com/WongKinYiu/yolov7/releases/download/v0.1/yolov7-e6e_training.pt -O /content/CowDetect/StrongSORT-YOLO/yolov7/yolov7-e6e_training.pt"
      ],
      "metadata": {
        "id": "FhT_DJ5XyJBv"
      },
      "execution_count": null,
      "outputs": []
    },
    {
      "cell_type": "markdown",
      "source": [
        "# train"
      ],
      "metadata": {
        "id": "vLh2aXsLvL6i"
      }
    },
    {
      "cell_type": "code",
      "source": [
        "cd /content/CowDetect/StrongSORT-YOLO/yolov7"
      ],
      "metadata": {
        "colab": {
          "base_uri": "https://localhost:8080/"
        },
        "id": "p_aqcYPKvSwv",
        "outputId": "19409f46-fc4c-4307-f9c6-a276e60dd9aa"
      },
      "execution_count": null,
      "outputs": [
        {
          "output_type": "stream",
          "name": "stdout",
          "text": [
            "/content/CowDetect/StrongSORT-YOLO/yolov7\n"
          ]
        }
      ]
    },
    {
      "cell_type": "code",
      "source": [
        "!python train.py --workers 8 --device 0 --freeze 105 --batch-size 32 --data /content/CowDetect/Data/customData/data.yaml --img 416 416 --cfg cfg/training/yolov7.yaml --weights 'yolov7_training.pt' --name yolov7-custom --hyp data/hyp.scratch.custom.yaml"
      ],
      "metadata": {
        "id": "1z-_irgHm6fu"
      },
      "execution_count": null,
      "outputs": []
    },
    {
      "cell_type": "markdown",
      "source": [
        "# tracking"
      ],
      "metadata": {
        "id": "CWzM85JU0nxU"
      }
    },
    {
      "cell_type": "markdown",
      "source": [
        "track_v7.py의 라인 357 False로 수정해야함"
      ],
      "metadata": {
        "id": "RTi56ge4gYZc"
      }
    },
    {
      "cell_type": "code",
      "source": [
        "cd /content/CowDetect/StrongSORT-YOLO"
      ],
      "metadata": {
        "colab": {
          "base_uri": "https://localhost:8080/"
        },
        "id": "NHSrZO8Q0q1_",
        "outputId": "9811dd77-3caa-4392-c522-a9251fef1bc4"
      },
      "execution_count": null,
      "outputs": [
        {
          "output_type": "stream",
          "name": "stdout",
          "text": [
            "/content/CowDetect/StrongSORT-YOLO\n"
          ]
        }
      ]
    },
    {
      "cell_type": "code",
      "source": [
        "!python track_v7.py --source sample_video.mp4 --save-vid --class 19 --yolo-weights ./yolov7/yolov7-e6e_training.pt"
      ],
      "metadata": {
        "id": "w6hZJ7JkxwW_"
      },
      "execution_count": null,
      "outputs": []
    }
  ]
}